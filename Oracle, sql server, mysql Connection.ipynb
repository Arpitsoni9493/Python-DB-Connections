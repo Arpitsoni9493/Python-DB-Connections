{
 "cells": [
  {
   "cell_type": "code",
   "execution_count": 1,
   "metadata": {},
   "outputs": [],
   "source": [
    "import pyodbc # can be used for oracle and sql server\n",
    "import pandas as pd"
   ]
  },
  {
   "cell_type": "code",
   "execution_count": 2,
   "metadata": {},
   "outputs": [],
   "source": [
    "# FOR ORACLE DB\n",
    "\n",
    "server = '//localhost:1521/xe' \n",
    "database = 'ARPIT-TEST' \n",
    "username = 'ARPIT' \n",
    "password = 'ARPIT' \n",
    "cnxn = pyodbc.connect('DRIVER={Oracle in XE};DBQ='+server+';DATABASE='+database+';UID='+username+';PWD='+ password)\n",
    "cursor = cnxn.cursor()\n",
    "\n",
    "# FOR SQL SERVER\n",
    "#cnxn = pyodbc.connect('DRIVER={SQL SERVER};DBQ='+server+';DATABASE='+database+';UID='+username+';PWD='+ password)"
   ]
  },
  {
   "cell_type": "code",
   "execution_count": 4,
   "metadata": {},
   "outputs": [
    {
     "name": "stdout",
     "output_type": "stream",
     "text": [
      "(Decimal('10'), 'Administration', Decimal('200'), Decimal('1700'))\n",
      "(Decimal('20'), 'Marketing', Decimal('201'), Decimal('1800'))\n",
      "(Decimal('30'), 'Purchasing', Decimal('114'), Decimal('1700'))\n",
      "(Decimal('40'), 'Human Resources', Decimal('203'), Decimal('2400'))\n",
      "(Decimal('50'), 'Shipping', Decimal('121'), Decimal('1500'))\n",
      "(Decimal('60'), 'IT', Decimal('103'), Decimal('1400'))\n",
      "(Decimal('70'), 'Public Relations', Decimal('204'), Decimal('2700'))\n",
      "(Decimal('80'), 'Sales', Decimal('145'), Decimal('2500'))\n",
      "(Decimal('90'), 'Executive', Decimal('100'), Decimal('1700'))\n",
      "(Decimal('100'), 'Finance', Decimal('108'), Decimal('1700'))\n",
      "(Decimal('110'), 'Accounting', Decimal('205'), Decimal('1700'))\n",
      "(Decimal('120'), 'Treasury', None, Decimal('1700'))\n",
      "(Decimal('130'), 'Corporate Tax', None, Decimal('1700'))\n",
      "(Decimal('140'), 'Control And Credit', None, Decimal('1700'))\n",
      "(Decimal('150'), 'Shareholder Services', None, Decimal('1700'))\n",
      "(Decimal('160'), 'Benefits', None, Decimal('1700'))\n",
      "(Decimal('170'), 'Manufacturing', None, Decimal('1700'))\n",
      "(Decimal('180'), 'Construction', None, Decimal('1700'))\n",
      "(Decimal('190'), 'Contracting', None, Decimal('1700'))\n",
      "(Decimal('200'), 'Operations', None, Decimal('1700'))\n",
      "(Decimal('210'), 'IT Support', None, Decimal('1700'))\n",
      "(Decimal('220'), 'NOC', None, Decimal('1700'))\n",
      "(Decimal('230'), 'IT Helpdesk', None, Decimal('1700'))\n",
      "(Decimal('240'), 'Government Sales', None, Decimal('1700'))\n",
      "(Decimal('250'), 'Retail Sales', None, Decimal('1700'))\n",
      "(Decimal('260'), 'Recruiting', None, Decimal('1700'))\n",
      "(Decimal('270'), 'Payroll', None, Decimal('1700'))\n"
     ]
    }
   ],
   "source": [
    "cursor.execute('select * from departments')\n",
    "for result in cursor:\n",
    "    print (result)"
   ]
  },
  {
   "cell_type": "code",
   "execution_count": 48,
   "metadata": {},
   "outputs": [],
   "source": [
    "# PACKAGE FOR ORACLE DB\n",
    "import cx_Oracle"
   ]
  },
  {
   "cell_type": "code",
   "execution_count": 52,
   "metadata": {},
   "outputs": [],
   "source": [
    "cx_Oracle.connect?"
   ]
  },
  {
   "cell_type": "code",
   "execution_count": 58,
   "metadata": {},
   "outputs": [],
   "source": [
    "con = cx_Oracle.connect('ARPIT/ARPIT@//localhost:1521/xe')"
   ]
  },
  {
   "cell_type": "code",
   "execution_count": 60,
   "metadata": {},
   "outputs": [
    {
     "name": "stdout",
     "output_type": "stream",
     "text": [
      "(10, 'Administration', 200, 1700)\n",
      "(20, 'Marketing', 201, 1800)\n",
      "(30, 'Purchasing', 114, 1700)\n",
      "(40, 'Human Resources', 203, 2400)\n",
      "(50, 'Shipping', 121, 1500)\n",
      "(60, 'IT', 103, 1400)\n",
      "(70, 'Public Relations', 204, 2700)\n",
      "(80, 'Sales', 145, 2500)\n",
      "(90, 'Executive', 100, 1700)\n",
      "(100, 'Finance', 108, 1700)\n",
      "(110, 'Accounting', 205, 1700)\n",
      "(120, 'Treasury', None, 1700)\n",
      "(130, 'Corporate Tax', None, 1700)\n",
      "(140, 'Control And Credit', None, 1700)\n",
      "(150, 'Shareholder Services', None, 1700)\n",
      "(160, 'Benefits', None, 1700)\n",
      "(170, 'Manufacturing', None, 1700)\n",
      "(180, 'Construction', None, 1700)\n",
      "(190, 'Contracting', None, 1700)\n",
      "(200, 'Operations', None, 1700)\n",
      "(210, 'IT Support', None, 1700)\n",
      "(220, 'NOC', None, 1700)\n",
      "(230, 'IT Helpdesk', None, 1700)\n",
      "(240, 'Government Sales', None, 1700)\n",
      "(250, 'Retail Sales', None, 1700)\n",
      "(260, 'Recruiting', None, 1700)\n",
      "(270, 'Payroll', None, 1700)\n"
     ]
    }
   ],
   "source": [
    "cur = con.cursor()\n",
    "cur.execute('select * from departments')\n",
    "for result in cur:\n",
    "    print (result)"
   ]
  },
  {
   "cell_type": "code",
   "execution_count": 6,
   "metadata": {},
   "outputs": [],
   "source": [
    "# PACKAGE FOR DB2 \n",
    "import ibm_db"
   ]
  },
  {
   "cell_type": "code",
   "execution_count": 7,
   "metadata": {},
   "outputs": [],
   "source": [
    "ibm_db.connect?"
   ]
  },
  {
   "cell_type": "code",
   "execution_count": null,
   "metadata": {},
   "outputs": [],
   "source": []
  }
 ],
 "metadata": {
  "kernelspec": {
   "display_name": "Python 3",
   "language": "python",
   "name": "python3"
  },
  "language_info": {
   "codemirror_mode": {
    "name": "ipython",
    "version": 3
   },
   "file_extension": ".py",
   "mimetype": "text/x-python",
   "name": "python",
   "nbconvert_exporter": "python",
   "pygments_lexer": "ipython3",
   "version": "3.7.1"
  }
 },
 "nbformat": 4,
 "nbformat_minor": 2
}
